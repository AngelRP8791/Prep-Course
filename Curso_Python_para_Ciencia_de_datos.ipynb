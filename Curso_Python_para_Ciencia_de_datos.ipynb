{
  "nbformat": 4,
  "nbformat_minor": 0,
  "metadata": {
    "colab": {
      "provenance": [],
      "authorship_tag": "ABX9TyMMH71VxXRnApbvr3iJyYcH",
      "include_colab_link": true
    },
    "kernelspec": {
      "name": "python3",
      "display_name": "Python 3"
    },
    "language_info": {
      "name": "python"
    }
  },
  "cells": [
    {
      "cell_type": "markdown",
      "metadata": {
        "id": "view-in-github",
        "colab_type": "text"
      },
      "source": [
        "<a href=\"https://colab.research.google.com/github/AngelRP8791/Prep-Course/blob/main/Curso_Python_para_Ciencia_de_datos.ipynb\" target=\"_parent\"><img src=\"https://colab.research.google.com/assets/colab-badge.svg\" alt=\"Open In Colab\"/></a>"
      ]
    },
    {
      "cell_type": "code",
      "execution_count": 2,
      "metadata": {
        "colab": {
          "base_uri": "https://localhost:8080/"
        },
        "id": "xiC9X08FLFse",
        "outputId": "001c1a56-365c-44c5-8ccd-6612051a1fd7"
      },
      "outputs": [
        {
          "output_type": "stream",
          "name": "stdout",
          "text": [
            "HOla mundo\n"
          ]
        }
      ],
      "source": [
        "print(\"HOla mundo\")#Función Print"
      ]
    },
    {
      "cell_type": "code",
      "source": [
        "nombre = \"Ana\" #VAriable que contiene un string\n",
        "print(nombre) #Función print"
      ],
      "metadata": {
        "colab": {
          "base_uri": "https://localhost:8080/"
        },
        "id": "3asi7QnBL1V_",
        "outputId": "d0ae317e-a6d1-48ca-fd9f-e55393c0cfa8"
      },
      "execution_count": 3,
      "outputs": [
        {
          "output_type": "stream",
          "name": "stdout",
          "text": [
            "Ana\n"
          ]
        }
      ]
    },
    {
      "cell_type": "code",
      "source": [
        "edad = 25 #Variable que contiene un número (puede ser int o str)\n",
        "print(edad) #Función print"
      ],
      "metadata": {
        "colab": {
          "base_uri": "https://localhost:8080/"
        },
        "id": "NvcZHNPuMGGU",
        "outputId": "69d1dc21-640a-4945-913d-dcb87b599f3b"
      },
      "execution_count": 4,
      "outputs": [
        {
          "output_type": "stream",
          "name": "stdout",
          "text": [
            "25\n"
          ]
        }
      ]
    },
    {
      "cell_type": "code",
      "source": [
        "a = 10 #Variable que contiene un número (solo puede ser int si va a formar una operación)\n",
        "b = 5 #Variable que contiene un número (solo puede ser int si va a formar una operación)\n",
        "suma = a+b #variable que contiene una operación matemática que suma dos variables que contienen números\n",
        "print(suma)#función print"
      ],
      "metadata": {
        "id": "tZCq1ClpMYo7"
      },
      "execution_count": 5,
      "outputs": []
    },
    {
      "cell_type": "code",
      "source": [
        "nombre = input(\"Como te llamas?\")#variable que contiene la función \"input\" que permite al sistema hacer preguntas\n",
        "print(\"hola, \"+nombre)#Función print que provoca la pregunta"
      ],
      "metadata": {
        "colab": {
          "base_uri": "https://localhost:8080/"
        },
        "id": "QIL4vzLRMevl",
        "outputId": "392e2e49-eb60-4581-92b5-21e67e827c38"
      },
      "execution_count": 7,
      "outputs": [
        {
          "output_type": "stream",
          "name": "stdout",
          "text": [
            "Como te llamas?Angel\n",
            "hola, Angel\n"
          ]
        }
      ]
    },
    {
      "cell_type": "code",
      "source": [
        "num1 = int(input(\"Número 1: \"))#Variable que contiene \"input\", identificandolo como int con la función \"int\"\n",
        "num2 = int(input(\"Número 2: \"))#Variable que contiene \"input\", identificandolo como int con la función \"int\"\n",
        "resultado = num1 + num2#Variable que contiene la suma de dos variables que contienen números validados como \"int\"\n",
        "print(\"La suma es:\", resultado)#Función print que provoca la función input"
      ],
      "metadata": {
        "colab": {
          "base_uri": "https://localhost:8080/"
        },
        "id": "rwWugNj1OI-B",
        "outputId": "b55d0ff3-1e55-47e9-c049-3bb685f33bc8"
      },
      "execution_count": 10,
      "outputs": [
        {
          "output_type": "stream",
          "name": "stdout",
          "text": [
            "Número 1: 1\n",
            "Número 2: 1\n",
            "La suma es: 2\n"
          ]
        }
      ]
    },
    {
      "cell_type": "code",
      "source": [
        "X = 3.14#Variable que contiene un valor Float(números decimales, sin importar si el decimal es cero)\n",
        "print(type(X))#función print con la función \"Type\" anidada que nos permite saber que tipo de contenido es"
      ],
      "metadata": {
        "colab": {
          "base_uri": "https://localhost:8080/"
        },
        "id": "LZL9fKLSPHmd",
        "outputId": "99085977-5950-401c-cc40-baadcc9a3879"
      },
      "execution_count": 13,
      "outputs": [
        {
          "output_type": "stream",
          "name": "stdout",
          "text": [
            "<class 'float'>\n"
          ]
        }
      ]
    },
    {
      "cell_type": "code",
      "source": [
        "num = 10#variable que contiene un número\n",
        "texto = str(num)#variable que contiene la función str que valida un número como texto\n",
        "print(type(texto))#función print"
      ],
      "metadata": {
        "colab": {
          "base_uri": "https://localhost:8080/"
        },
        "id": "ZWQq2HC9PqdU",
        "outputId": "4a34c3e5-f792-406f-cd1a-e6a2266994c1"
      },
      "execution_count": 15,
      "outputs": [
        {
          "output_type": "stream",
          "name": "stdout",
          "text": [
            "<class 'str'>\n"
          ]
        }
      ]
    },
    {
      "cell_type": "code",
      "source": [
        "print(\"Python\", \"es\", \"genial\")#fución print que contatena textos con comas dejando un espacio entre cada texto en automático"
      ],
      "metadata": {
        "colab": {
          "base_uri": "https://localhost:8080/"
        },
        "id": "01qCY9MUQCj8",
        "outputId": "aab6c73b-819d-4b38-cae8-07680fe89fc0"
      },
      "execution_count": 19,
      "outputs": [
        {
          "output_type": "stream",
          "name": "stdout",
          "text": [
            "Python es genial\n"
          ]
        }
      ]
    },
    {
      "cell_type": "code",
      "source": [
        "base = 5 #Variable que contiene un número\n",
        "altura = 5 #Variable que contiene un número\n",
        "area = base * altura #Variable que contiene una operacion con dos variables que contienen números\n",
        "print(\"Área:\", area)#Función print que concatena un texto y el contenido de la operación contenida en una variable"
      ],
      "metadata": {
        "colab": {
          "base_uri": "https://localhost:8080/"
        },
        "id": "BusESlmdQdQU",
        "outputId": "f9984a65-442b-4cb5-f2da-a83ec22875d9"
      },
      "execution_count": 20,
      "outputs": [
        {
          "output_type": "stream",
          "name": "stdout",
          "text": [
            "Área: 25\n"
          ]
        }
      ]
    },
    {
      "cell_type": "code",
      "source": [
        "num = int(input(\"Dame un número: \"))#Variable que contiene una función input que será validada como int por la función int\n",
        "if num > 0:#función if que compara el contenido de la variable con un número\n",
        "    print(\"Es positivo\")#respuesta condicionada al resultado del contenido de \"if\"\n",
        "else:#Segunda condicionante de \"if\" que permite conocer un resultado alternativo en caso de que no se cumpla el contenido de \"if\"\n",
        "    print(\"No es positivo\")#respuesta condicionada al resultado del contenido de \"else\""
      ],
      "metadata": {
        "colab": {
          "base_uri": "https://localhost:8080/"
        },
        "id": "CNpr4kP7RT-O",
        "outputId": "825335ee-c3b7-43fd-f1cc-e0f3607355c8"
      },
      "execution_count": 21,
      "outputs": [
        {
          "output_type": "stream",
          "name": "stdout",
          "text": [
            "Dame un número: 5\n",
            "Es positivo\n"
          ]
        }
      ]
    },
    {
      "cell_type": "code",
      "source": [
        "for i in range(1,6):#Función \"for\" que devuelve la impresión de bucles (repite acciones)\n",
        "                    #primer valor(i): indica los individuos que contiene el conjunto\n",
        "                    #segundo valor (range()): indica el conjunto de valores contenido en la variable\n",
        "                    #Función \"range()\"  devuelve los números contenidos dentro del rango especificado\n",
        "    print(i)#función print que devuelve los números contenidos dentro del rango indicado al llamar al contenido \"i\""
      ],
      "metadata": {
        "colab": {
          "base_uri": "https://localhost:8080/"
        },
        "id": "5GZgoUFOSNAT",
        "outputId": "2e493c8f-3357-4535-fe11-33e9e3123130"
      },
      "execution_count": 22,
      "outputs": [
        {
          "output_type": "stream",
          "name": "stdout",
          "text": [
            "1\n",
            "2\n",
            "3\n",
            "4\n",
            "5\n"
          ]
        }
      ]
    },
    {
      "cell_type": "code",
      "source": [
        "números = input(\"Escribe números separados por comas: \")#Variable que contiene la función input\n",
        "lista = números.split(\",\") #Variable que contiene la función \"split\": complementa la variable para\n",
        "                           #indicar la separación de valores con un objeto\n",
        "suma = 0 #Indica el número adicional a sumar a la operación (dato complementario)\n",
        "for n in lista:#Función \"for\" que devuelve la impresión de bucles (repite acciones);\n",
        "                #primer valor(n): indica los individuos que contiene el conjunto\n",
        "                #segundo valor (lista): indica el conjunto de valores contenido en la variable\n",
        "    suma += int(n) #Función indizada, es la función contenida que indica que acciones va a realizar \"for\"\n",
        "                   #\"+=\" suma de los valores \"n\" contenidos en el bucle \"for\"\n",
        "print(\"suma:\",suma)#Función print que llama a input y el evento contenido en el blucle \"for\""
      ],
      "metadata": {
        "colab": {
          "base_uri": "https://localhost:8080/"
        },
        "id": "LBMGmsd2S4un",
        "outputId": "16eb5654-2f67-4a36-9f55-7bd3008383e5"
      },
      "execution_count": 33,
      "outputs": [
        {
          "output_type": "stream",
          "name": "stdout",
          "text": [
            "Escribe números separados por comas: 1,1\n",
            "suma: 2\n"
          ]
        }
      ]
    },
    {
      "cell_type": "code",
      "source": [
        "def saludar(nombre): #Función \"def\" para crear una función específica con un argumento que se asignará al llamar la función\n",
        "    print(\"Hola, \" + nombre) #función print que concatena texto con el argumento de la función que crea \"def\"\n",
        "\n",
        "saludar(\"Luis\") #Función llamada que indica el valor del contenido de \"def\""
      ],
      "metadata": {
        "colab": {
          "base_uri": "https://localhost:8080/"
        },
        "id": "lVDpbC4pW9SZ",
        "outputId": "7002436a-8380-47ef-b82e-0790bedf7c6e"
      },
      "execution_count": 35,
      "outputs": [
        {
          "output_type": "stream",
          "name": "stdout",
          "text": [
            "Hola, Luis\n"
          ]
        }
      ]
    },
    {
      "cell_type": "code",
      "source": [
        "import csv\n",
        "\n",
        "with open(datos.csv) as archivo:\n",
        "    lector = csv.reader(archivo)\n",
        "    for i, fila in enumerate(lector):\n",
        "        if i < 3:\n",
        "            print(fila)"
      ],
      "metadata": {
        "colab": {
          "base_uri": "https://localhost:8080/",
          "height": 222
        },
        "id": "5FkY_F5IZHS5",
        "outputId": "c4f1c7b1-d20a-4cda-b8f5-7886f9b0c6c2"
      },
      "execution_count": 41,
      "outputs": [
        {
          "output_type": "error",
          "ename": "NameError",
          "evalue": "name 'datos' is not defined",
          "traceback": [
            "\u001b[0;31m---------------------------------------------------------------------------\u001b[0m",
            "\u001b[0;31mNameError\u001b[0m                                 Traceback (most recent call last)",
            "\u001b[0;32m<ipython-input-41-6f5e276e028d>\u001b[0m in \u001b[0;36m<cell line: 0>\u001b[0;34m()\u001b[0m\n\u001b[1;32m      1\u001b[0m \u001b[0;32mimport\u001b[0m \u001b[0mcsv\u001b[0m\u001b[0;34m\u001b[0m\u001b[0;34m\u001b[0m\u001b[0m\n\u001b[1;32m      2\u001b[0m \u001b[0;34m\u001b[0m\u001b[0m\n\u001b[0;32m----> 3\u001b[0;31m \u001b[0;32mwith\u001b[0m \u001b[0mopen\u001b[0m\u001b[0;34m(\u001b[0m\u001b[0mdatos\u001b[0m\u001b[0;34m.\u001b[0m\u001b[0mcsv\u001b[0m\u001b[0;34m)\u001b[0m \u001b[0;32mas\u001b[0m \u001b[0marchivo\u001b[0m\u001b[0;34m:\u001b[0m\u001b[0;34m\u001b[0m\u001b[0;34m\u001b[0m\u001b[0m\n\u001b[0m\u001b[1;32m      4\u001b[0m     \u001b[0mlector\u001b[0m \u001b[0;34m=\u001b[0m \u001b[0mcsv\u001b[0m\u001b[0;34m.\u001b[0m\u001b[0mreader\u001b[0m\u001b[0;34m(\u001b[0m\u001b[0marchivo\u001b[0m\u001b[0;34m)\u001b[0m\u001b[0;34m\u001b[0m\u001b[0;34m\u001b[0m\u001b[0m\n\u001b[1;32m      5\u001b[0m     \u001b[0;32mfor\u001b[0m \u001b[0mi\u001b[0m\u001b[0;34m,\u001b[0m \u001b[0mfila\u001b[0m \u001b[0;32min\u001b[0m \u001b[0menumerate\u001b[0m\u001b[0;34m(\u001b[0m\u001b[0mlector\u001b[0m\u001b[0;34m)\u001b[0m\u001b[0;34m:\u001b[0m\u001b[0;34m\u001b[0m\u001b[0;34m\u001b[0m\u001b[0m\n",
            "\u001b[0;31mNameError\u001b[0m: name 'datos' is not defined"
          ]
        }
      ]
    },
    {
      "cell_type": "code",
      "source": [
        "pares = [x for x in range(11) if x % 2 == 0] #variable que contiene los siguientes aspectos:\n",
        "                                             #range(11): crea una secuencia de números\n",
        "                                             #for x in range(11): asigna la \"x\" para cada valor de range()\n",
        "                                             #if x % 2 == 0: condición que indica que indica la condición que debe cumplirse (el residuo de dividir x/2 debe ser 0)\n",
        "                                             #[x for x in range(11) if x % 2 == 0]: construye una lista que cumple las condiciones (todos los valores x que son pares)\n",
        "                                             #pares = [...]: guarda el resultado en la variable\n",
        "print(pares)"
      ],
      "metadata": {
        "colab": {
          "base_uri": "https://localhost:8080/"
        },
        "id": "6rzK208lZw32",
        "outputId": "cafdb448-9c2b-4ef7-851d-bc1da497ad18"
      },
      "execution_count": 43,
      "outputs": [
        {
          "output_type": "stream",
          "name": "stdout",
          "text": [
            "[0, 2, 4, 6, 8, 10]\n"
          ]
        }
      ]
    },
    {
      "cell_type": "code",
      "source": [
        "palabra = \"Python es muy útil\" #variable que contiene un elemento str\n",
        "print(len(palabra)) #función print que contiene la función \"len()\" que cuenta los caracteres del contenido de una variable"
      ],
      "metadata": {
        "colab": {
          "base_uri": "https://localhost:8080/"
        },
        "id": "iceubXadbeR4",
        "outputId": "951f22ee-f6e0-4955-b5d7-faa65c3a45de"
      },
      "execution_count": 45,
      "outputs": [
        {
          "output_type": "stream",
          "name": "stdout",
          "text": [
            "18\n"
          ]
        }
      ]
    },
    {
      "cell_type": "code",
      "source": [
        "palabras = [\"casa\", \"perro\", \"gato\"] #Variable que contiene tres str\n",
        "mayusculas = [p.upper() for p in palabras] #variable que contiene la función upper() que convierte minúsculas en mayúsculas\n",
        "                                           #complementa \"p\" para indicar las letras que se convertirán en mayúsculas\n",
        "                                           #for p in palabras\n",
        "print(mayusculas)"
      ],
      "metadata": {
        "colab": {
          "base_uri": "https://localhost:8080/"
        },
        "id": "a6E3Crt1eN6u",
        "outputId": "39820046-edf0-4cf9-e1f5-e2a465a4f2a7"
      },
      "execution_count": 46,
      "outputs": [
        {
          "output_type": "stream",
          "name": "stdout",
          "text": [
            "['CASA', 'PERRO', 'GATO']\n"
          ]
        }
      ]
    },
    {
      "cell_type": "code",
      "source": [
        "try:                                #función para identificar errores\n",
        "    num = int(input(\"Número: \"))    #Variable que valida como int el contenido de input\n",
        "except ValueError:                  #Complemente de la función que indica el error\n",
        "    print(\"no es un número válido\") #devuelve el texto en caso de ingrrsar un valor no válido"
      ],
      "metadata": {
        "colab": {
          "base_uri": "https://localhost:8080/"
        },
        "id": "5C2GjT8efUCz",
        "outputId": "9797175e-5d04-43dc-c163-63f9b4350a92"
      },
      "execution_count": 58,
      "outputs": [
        {
          "output_type": "stream",
          "name": "stdout",
          "text": [
            "Número: m\n",
            "no es un número válido\n"
          ]
        }
      ]
    },
    {
      "cell_type": "code",
      "source": [
        "texto = \"manzana banana manzana pera\" #variable que contiene valores str\n",
        "palabras = texto.split()              #variable que contiene la función \"split()\" para separar elementos contenidos en una variable, si no indica el objeto, por default considera el espacio\n",
        "contador = palabras.count(\"manzana\")  #variable que contiene la función count() complementando la variable para determinar las veces que el elemento elegido en la variable\n",
        "print(\"manzana aparece:\", contador)   #función print: devuelve el resultado de \"contador\" concatenado con otro texto"
      ],
      "metadata": {
        "colab": {
          "base_uri": "https://localhost:8080/"
        },
        "id": "fkLTcOJPnAUb",
        "outputId": "cd5815cc-4bd9-41ad-8cef-28d60b8d7c7a"
      },
      "execution_count": 61,
      "outputs": [
        {
          "output_type": "stream",
          "name": "stdout",
          "text": [
            "manzana aparece: 2\n"
          ]
        }
      ]
    },
    {
      "cell_type": "code",
      "source": [
        "import pandas as pd\n",
        "\n",
        "df = pd.read_csv(\"datos.csv\")\n",
        "print(df.head())\n",
        "print(df.describe())"
      ],
      "metadata": {
        "colab": {
          "base_uri": "https://localhost:8080/",
          "height": 393
        },
        "id": "TI5MqdChpMzY",
        "outputId": "9eeab699-2f26-471c-d0b8-38a81eb41015"
      },
      "execution_count": 62,
      "outputs": [
        {
          "output_type": "error",
          "ename": "FileNotFoundError",
          "evalue": "[Errno 2] No such file or directory: 'datos.csv'",
          "traceback": [
            "\u001b[0;31m---------------------------------------------------------------------------\u001b[0m",
            "\u001b[0;31mFileNotFoundError\u001b[0m                         Traceback (most recent call last)",
            "\u001b[0;32m<ipython-input-62-dff991ffc20e>\u001b[0m in \u001b[0;36m<cell line: 0>\u001b[0;34m()\u001b[0m\n\u001b[1;32m      1\u001b[0m \u001b[0;32mimport\u001b[0m \u001b[0mpandas\u001b[0m \u001b[0;32mas\u001b[0m \u001b[0mpd\u001b[0m\u001b[0;34m\u001b[0m\u001b[0;34m\u001b[0m\u001b[0m\n\u001b[1;32m      2\u001b[0m \u001b[0;34m\u001b[0m\u001b[0m\n\u001b[0;32m----> 3\u001b[0;31m \u001b[0mdf\u001b[0m \u001b[0;34m=\u001b[0m \u001b[0mpd\u001b[0m\u001b[0;34m.\u001b[0m\u001b[0mread_csv\u001b[0m\u001b[0;34m(\u001b[0m\u001b[0;34m\"datos.csv\"\u001b[0m\u001b[0;34m)\u001b[0m\u001b[0;34m\u001b[0m\u001b[0;34m\u001b[0m\u001b[0m\n\u001b[0m\u001b[1;32m      4\u001b[0m \u001b[0mprint\u001b[0m\u001b[0;34m(\u001b[0m\u001b[0mdf\u001b[0m\u001b[0;34m.\u001b[0m\u001b[0mhead\u001b[0m\u001b[0;34m(\u001b[0m\u001b[0;34m)\u001b[0m\u001b[0;34m)\u001b[0m\u001b[0;34m\u001b[0m\u001b[0;34m\u001b[0m\u001b[0m\n\u001b[1;32m      5\u001b[0m \u001b[0mprint\u001b[0m\u001b[0;34m(\u001b[0m\u001b[0mdf\u001b[0m\u001b[0;34m.\u001b[0m\u001b[0mdescribe\u001b[0m\u001b[0;34m(\u001b[0m\u001b[0;34m)\u001b[0m\u001b[0;34m)\u001b[0m\u001b[0;34m\u001b[0m\u001b[0;34m\u001b[0m\u001b[0m\n",
            "\u001b[0;32m/usr/local/lib/python3.11/dist-packages/pandas/io/parsers/readers.py\u001b[0m in \u001b[0;36mread_csv\u001b[0;34m(filepath_or_buffer, sep, delimiter, header, names, index_col, usecols, dtype, engine, converters, true_values, false_values, skipinitialspace, skiprows, skipfooter, nrows, na_values, keep_default_na, na_filter, verbose, skip_blank_lines, parse_dates, infer_datetime_format, keep_date_col, date_parser, date_format, dayfirst, cache_dates, iterator, chunksize, compression, thousands, decimal, lineterminator, quotechar, quoting, doublequote, escapechar, comment, encoding, encoding_errors, dialect, on_bad_lines, delim_whitespace, low_memory, memory_map, float_precision, storage_options, dtype_backend)\u001b[0m\n\u001b[1;32m   1024\u001b[0m     \u001b[0mkwds\u001b[0m\u001b[0;34m.\u001b[0m\u001b[0mupdate\u001b[0m\u001b[0;34m(\u001b[0m\u001b[0mkwds_defaults\u001b[0m\u001b[0;34m)\u001b[0m\u001b[0;34m\u001b[0m\u001b[0;34m\u001b[0m\u001b[0m\n\u001b[1;32m   1025\u001b[0m \u001b[0;34m\u001b[0m\u001b[0m\n\u001b[0;32m-> 1026\u001b[0;31m     \u001b[0;32mreturn\u001b[0m \u001b[0m_read\u001b[0m\u001b[0;34m(\u001b[0m\u001b[0mfilepath_or_buffer\u001b[0m\u001b[0;34m,\u001b[0m \u001b[0mkwds\u001b[0m\u001b[0;34m)\u001b[0m\u001b[0;34m\u001b[0m\u001b[0;34m\u001b[0m\u001b[0m\n\u001b[0m\u001b[1;32m   1027\u001b[0m \u001b[0;34m\u001b[0m\u001b[0m\n\u001b[1;32m   1028\u001b[0m \u001b[0;34m\u001b[0m\u001b[0m\n",
            "\u001b[0;32m/usr/local/lib/python3.11/dist-packages/pandas/io/parsers/readers.py\u001b[0m in \u001b[0;36m_read\u001b[0;34m(filepath_or_buffer, kwds)\u001b[0m\n\u001b[1;32m    618\u001b[0m \u001b[0;34m\u001b[0m\u001b[0m\n\u001b[1;32m    619\u001b[0m     \u001b[0;31m# Create the parser.\u001b[0m\u001b[0;34m\u001b[0m\u001b[0;34m\u001b[0m\u001b[0m\n\u001b[0;32m--> 620\u001b[0;31m     \u001b[0mparser\u001b[0m \u001b[0;34m=\u001b[0m \u001b[0mTextFileReader\u001b[0m\u001b[0;34m(\u001b[0m\u001b[0mfilepath_or_buffer\u001b[0m\u001b[0;34m,\u001b[0m \u001b[0;34m**\u001b[0m\u001b[0mkwds\u001b[0m\u001b[0;34m)\u001b[0m\u001b[0;34m\u001b[0m\u001b[0;34m\u001b[0m\u001b[0m\n\u001b[0m\u001b[1;32m    621\u001b[0m \u001b[0;34m\u001b[0m\u001b[0m\n\u001b[1;32m    622\u001b[0m     \u001b[0;32mif\u001b[0m \u001b[0mchunksize\u001b[0m \u001b[0;32mor\u001b[0m \u001b[0miterator\u001b[0m\u001b[0;34m:\u001b[0m\u001b[0;34m\u001b[0m\u001b[0;34m\u001b[0m\u001b[0m\n",
            "\u001b[0;32m/usr/local/lib/python3.11/dist-packages/pandas/io/parsers/readers.py\u001b[0m in \u001b[0;36m__init__\u001b[0;34m(self, f, engine, **kwds)\u001b[0m\n\u001b[1;32m   1618\u001b[0m \u001b[0;34m\u001b[0m\u001b[0m\n\u001b[1;32m   1619\u001b[0m         \u001b[0mself\u001b[0m\u001b[0;34m.\u001b[0m\u001b[0mhandles\u001b[0m\u001b[0;34m:\u001b[0m \u001b[0mIOHandles\u001b[0m \u001b[0;34m|\u001b[0m \u001b[0;32mNone\u001b[0m \u001b[0;34m=\u001b[0m \u001b[0;32mNone\u001b[0m\u001b[0;34m\u001b[0m\u001b[0;34m\u001b[0m\u001b[0m\n\u001b[0;32m-> 1620\u001b[0;31m         \u001b[0mself\u001b[0m\u001b[0;34m.\u001b[0m\u001b[0m_engine\u001b[0m \u001b[0;34m=\u001b[0m \u001b[0mself\u001b[0m\u001b[0;34m.\u001b[0m\u001b[0m_make_engine\u001b[0m\u001b[0;34m(\u001b[0m\u001b[0mf\u001b[0m\u001b[0;34m,\u001b[0m \u001b[0mself\u001b[0m\u001b[0;34m.\u001b[0m\u001b[0mengine\u001b[0m\u001b[0;34m)\u001b[0m\u001b[0;34m\u001b[0m\u001b[0;34m\u001b[0m\u001b[0m\n\u001b[0m\u001b[1;32m   1621\u001b[0m \u001b[0;34m\u001b[0m\u001b[0m\n\u001b[1;32m   1622\u001b[0m     \u001b[0;32mdef\u001b[0m \u001b[0mclose\u001b[0m\u001b[0;34m(\u001b[0m\u001b[0mself\u001b[0m\u001b[0;34m)\u001b[0m \u001b[0;34m->\u001b[0m \u001b[0;32mNone\u001b[0m\u001b[0;34m:\u001b[0m\u001b[0;34m\u001b[0m\u001b[0;34m\u001b[0m\u001b[0m\n",
            "\u001b[0;32m/usr/local/lib/python3.11/dist-packages/pandas/io/parsers/readers.py\u001b[0m in \u001b[0;36m_make_engine\u001b[0;34m(self, f, engine)\u001b[0m\n\u001b[1;32m   1878\u001b[0m                 \u001b[0;32mif\u001b[0m \u001b[0;34m\"b\"\u001b[0m \u001b[0;32mnot\u001b[0m \u001b[0;32min\u001b[0m \u001b[0mmode\u001b[0m\u001b[0;34m:\u001b[0m\u001b[0;34m\u001b[0m\u001b[0;34m\u001b[0m\u001b[0m\n\u001b[1;32m   1879\u001b[0m                     \u001b[0mmode\u001b[0m \u001b[0;34m+=\u001b[0m \u001b[0;34m\"b\"\u001b[0m\u001b[0;34m\u001b[0m\u001b[0;34m\u001b[0m\u001b[0m\n\u001b[0;32m-> 1880\u001b[0;31m             self.handles = get_handle(\n\u001b[0m\u001b[1;32m   1881\u001b[0m                 \u001b[0mf\u001b[0m\u001b[0;34m,\u001b[0m\u001b[0;34m\u001b[0m\u001b[0;34m\u001b[0m\u001b[0m\n\u001b[1;32m   1882\u001b[0m                 \u001b[0mmode\u001b[0m\u001b[0;34m,\u001b[0m\u001b[0;34m\u001b[0m\u001b[0;34m\u001b[0m\u001b[0m\n",
            "\u001b[0;32m/usr/local/lib/python3.11/dist-packages/pandas/io/common.py\u001b[0m in \u001b[0;36mget_handle\u001b[0;34m(path_or_buf, mode, encoding, compression, memory_map, is_text, errors, storage_options)\u001b[0m\n\u001b[1;32m    871\u001b[0m         \u001b[0;32mif\u001b[0m \u001b[0mioargs\u001b[0m\u001b[0;34m.\u001b[0m\u001b[0mencoding\u001b[0m \u001b[0;32mand\u001b[0m \u001b[0;34m\"b\"\u001b[0m \u001b[0;32mnot\u001b[0m \u001b[0;32min\u001b[0m \u001b[0mioargs\u001b[0m\u001b[0;34m.\u001b[0m\u001b[0mmode\u001b[0m\u001b[0;34m:\u001b[0m\u001b[0;34m\u001b[0m\u001b[0;34m\u001b[0m\u001b[0m\n\u001b[1;32m    872\u001b[0m             \u001b[0;31m# Encoding\u001b[0m\u001b[0;34m\u001b[0m\u001b[0;34m\u001b[0m\u001b[0m\n\u001b[0;32m--> 873\u001b[0;31m             handle = open(\n\u001b[0m\u001b[1;32m    874\u001b[0m                 \u001b[0mhandle\u001b[0m\u001b[0;34m,\u001b[0m\u001b[0;34m\u001b[0m\u001b[0;34m\u001b[0m\u001b[0m\n\u001b[1;32m    875\u001b[0m                 \u001b[0mioargs\u001b[0m\u001b[0;34m.\u001b[0m\u001b[0mmode\u001b[0m\u001b[0;34m,\u001b[0m\u001b[0;34m\u001b[0m\u001b[0;34m\u001b[0m\u001b[0m\n",
            "\u001b[0;31mFileNotFoundError\u001b[0m: [Errno 2] No such file or directory: 'datos.csv'"
          ]
        }
      ]
    },
    {
      "cell_type": "code",
      "source": [
        "filtro = df[df[\"edad\"] > 30]\n",
        "print(filtro)"
      ],
      "metadata": {
        "colab": {
          "base_uri": "https://localhost:8080/",
          "height": 166
        },
        "id": "1uywkLoTqDxu",
        "outputId": "f6d50136-80d8-4241-8d9d-50628b49c421"
      },
      "execution_count": 63,
      "outputs": [
        {
          "output_type": "error",
          "ename": "NameError",
          "evalue": "name 'df' is not defined",
          "traceback": [
            "\u001b[0;31m---------------------------------------------------------------------------\u001b[0m",
            "\u001b[0;31mNameError\u001b[0m                                 Traceback (most recent call last)",
            "\u001b[0;32m<ipython-input-63-4d0cb021ca62>\u001b[0m in \u001b[0;36m<cell line: 0>\u001b[0;34m()\u001b[0m\n\u001b[0;32m----> 1\u001b[0;31m \u001b[0mfiltro\u001b[0m \u001b[0;34m=\u001b[0m \u001b[0mdf\u001b[0m\u001b[0;34m[\u001b[0m\u001b[0mdf\u001b[0m\u001b[0;34m[\u001b[0m\u001b[0;34m\"edad\"\u001b[0m\u001b[0;34m]\u001b[0m \u001b[0;34m>\u001b[0m \u001b[0;36m30\u001b[0m\u001b[0;34m]\u001b[0m\u001b[0;34m\u001b[0m\u001b[0;34m\u001b[0m\u001b[0m\n\u001b[0m\u001b[1;32m      2\u001b[0m \u001b[0mprint\u001b[0m\u001b[0;34m(\u001b[0m\u001b[0mfiltro\u001b[0m\u001b[0;34m)\u001b[0m\u001b[0;34m\u001b[0m\u001b[0;34m\u001b[0m\u001b[0m\n",
            "\u001b[0;31mNameError\u001b[0m: name 'df' is not defined"
          ]
        }
      ]
    },
    {
      "cell_type": "code",
      "source": [
        "df[\"edad_10_años_más\"] = df[\"edad\"] + 10\n",
        "print(df.head())"
      ],
      "metadata": {
        "colab": {
          "base_uri": "https://localhost:8080/",
          "height": 166
        },
        "id": "qbenfGTkqk5d",
        "outputId": "6a571b73-22ed-4e64-a3fe-ce668d72a353"
      },
      "execution_count": 64,
      "outputs": [
        {
          "output_type": "error",
          "ename": "NameError",
          "evalue": "name 'df' is not defined",
          "traceback": [
            "\u001b[0;31m---------------------------------------------------------------------------\u001b[0m",
            "\u001b[0;31mNameError\u001b[0m                                 Traceback (most recent call last)",
            "\u001b[0;32m<ipython-input-64-c168cc8a9efc>\u001b[0m in \u001b[0;36m<cell line: 0>\u001b[0;34m()\u001b[0m\n\u001b[0;32m----> 1\u001b[0;31m \u001b[0mdf\u001b[0m\u001b[0;34m[\u001b[0m\u001b[0;34m\"edad_10_años_más\"\u001b[0m\u001b[0;34m]\u001b[0m \u001b[0;34m=\u001b[0m \u001b[0mdf\u001b[0m\u001b[0;34m[\u001b[0m\u001b[0;34m\"edad\"\u001b[0m\u001b[0;34m]\u001b[0m \u001b[0;34m+\u001b[0m \u001b[0;36m10\u001b[0m\u001b[0;34m\u001b[0m\u001b[0;34m\u001b[0m\u001b[0m\n\u001b[0m\u001b[1;32m      2\u001b[0m \u001b[0mprint\u001b[0m\u001b[0;34m(\u001b[0m\u001b[0mdf\u001b[0m\u001b[0;34m.\u001b[0m\u001b[0mhead\u001b[0m\u001b[0;34m(\u001b[0m\u001b[0;34m)\u001b[0m\u001b[0;34m)\u001b[0m\u001b[0;34m\u001b[0m\u001b[0;34m\u001b[0m\u001b[0m\n",
            "\u001b[0;31mNameError\u001b[0m: name 'df' is not defined"
          ]
        }
      ]
    },
    {
      "cell_type": "code",
      "source": [
        "print(\"Hola mundo!\")"
      ],
      "metadata": {
        "colab": {
          "base_uri": "https://localhost:8080/"
        },
        "id": "zx5qLiWd-GXh",
        "outputId": "359036bb-22e1-482d-d22b-25ad4657586a"
      },
      "execution_count": 2,
      "outputs": [
        {
          "output_type": "stream",
          "name": "stdout",
          "text": [
            "Hola mundo!\n"
          ]
        }
      ]
    },
    {
      "cell_type": "code",
      "source": [
        "print(\"Me llamo Juan\")"
      ],
      "metadata": {
        "colab": {
          "base_uri": "https://localhost:8080/"
        },
        "id": "5oo95OXP-RPw",
        "outputId": "3961e46a-17c1-4223-c1ee-41cb906036cc"
      },
      "execution_count": 4,
      "outputs": [
        {
          "output_type": "stream",
          "name": "stdout",
          "text": [
            "Me llamo Juan\n"
          ]
        }
      ]
    },
    {
      "cell_type": "code",
      "source": [
        "print(\"Mi comida favorita es la pizza\")"
      ],
      "metadata": {
        "colab": {
          "base_uri": "https://localhost:8080/"
        },
        "id": "0zEpbSpw-Upv",
        "outputId": "81d02c04-a47c-457b-afe6-24b518b4c0c0"
      },
      "execution_count": 6,
      "outputs": [
        {
          "output_type": "stream",
          "name": "stdout",
          "text": [
            "Mi comida favorita es la pizza\n"
          ]
        }
      ]
    },
    {
      "cell_type": "code",
      "source": [
        "print(\"Python\")\n",
        "print(\"Python\")\n",
        "print(\"Python\")\n",
        "print(\"Python\")\n",
        "print(\"Python\")"
      ],
      "metadata": {
        "colab": {
          "base_uri": "https://localhost:8080/"
        },
        "id": "pqj8VLSQ-ayg",
        "outputId": "01aefb32-c9a2-4192-9c38-f8953c612edf"
      },
      "execution_count": 8,
      "outputs": [
        {
          "output_type": "stream",
          "name": "stdout",
          "text": [
            "Python\n",
            "Python\n",
            "Python\n",
            "Python\n",
            "Python\n"
          ]
        }
      ]
    },
    {
      "cell_type": "code",
      "source": [
        "número = 8\n",
        "print(número)"
      ],
      "metadata": {
        "colab": {
          "base_uri": "https://localhost:8080/"
        },
        "id": "ayOLk4mX-0Au",
        "outputId": "7c844944-3262-4504-8613-aec0ab435490"
      },
      "execution_count": 10,
      "outputs": [
        {
          "output_type": "stream",
          "name": "stdout",
          "text": [
            "8\n"
          ]
        }
      ]
    },
    {
      "cell_type": "code",
      "source": [
        "fruta = \"manzana\"\n",
        "print(fruta)"
      ],
      "metadata": {
        "colab": {
          "base_uri": "https://localhost:8080/"
        },
        "id": "2D0IOcsp-8mA",
        "outputId": "ba490a55-4a0f-48f6-b9ee-0dd0425ffe7b"
      },
      "execution_count": 13,
      "outputs": [
        {
          "output_type": "stream",
          "name": "stdout",
          "text": [
            "manzana\n"
          ]
        }
      ]
    },
    {
      "cell_type": "code",
      "source": [
        "edad = 25\n",
        "nueva_edad = edad + 5\n",
        "print(nueva_edad)"
      ],
      "metadata": {
        "colab": {
          "base_uri": "https://localhost:8080/"
        },
        "id": "_VrSdnPj_A2v",
        "outputId": "9ba88608-d5f7-4e8c-bfd2-87d3e5b9ba5d"
      },
      "execution_count": 15,
      "outputs": [
        {
          "output_type": "stream",
          "name": "stdout",
          "text": [
            "30\n"
          ]
        }
      ]
    },
    {
      "cell_type": "code",
      "source": [
        "x = 10\n",
        "y = 20\n",
        "suma = x + y\n",
        "print(suma)"
      ],
      "metadata": {
        "colab": {
          "base_uri": "https://localhost:8080/"
        },
        "id": "KVJ1PZ5w_Muv",
        "outputId": "fcef579b-3d0b-46e9-8f51-5f0cfda0a337"
      },
      "execution_count": 18,
      "outputs": [
        {
          "output_type": "stream",
          "name": "stdout",
          "text": [
            "30\n"
          ]
        }
      ]
    },
    {
      "cell_type": "code",
      "source": [
        "nombre = \"Carlos\"\n",
        "edad = 40\n",
        "print(\"Nombre:\", nombre, \"; Edad:\", edad)"
      ],
      "metadata": {
        "colab": {
          "base_uri": "https://localhost:8080/"
        },
        "id": "DhcpkJet_ZdP",
        "outputId": "a1300d31-dd4f-4eaf-d8ba-911aa5acd423"
      },
      "execution_count": 21,
      "outputs": [
        {
          "output_type": "stream",
          "name": "stdout",
          "text": [
            "Nombre: Carlos ; Edad: 40\n"
          ]
        }
      ]
    },
    {
      "cell_type": "code",
      "source": [
        "ciudad = \"Puebla\"\n",
        "país = \"México\"\n",
        "print(\"Vives en\", ciudad, \"de\", país)"
      ],
      "metadata": {
        "colab": {
          "base_uri": "https://localhost:8080/"
        },
        "id": "KeRTu9dt_j_I",
        "outputId": "e9cc3889-a2bc-4023-bc92-310f5629f0bb"
      },
      "execution_count": 23,
      "outputs": [
        {
          "output_type": "stream",
          "name": "stdout",
          "text": [
            "Vives en Puebla de México\n"
          ]
        }
      ]
    },
    {
      "cell_type": "code",
      "source": [
        "mensaje = \"Hola mundo\"\n",
        "print(mensaje)"
      ],
      "metadata": {
        "colab": {
          "base_uri": "https://localhost:8080/"
        },
        "id": "Xr193YiG_75w",
        "outputId": "eaba6ba7-40e8-4162-8233-f24c2b4aa245"
      },
      "execution_count": 25,
      "outputs": [
        {
          "output_type": "stream",
          "name": "stdout",
          "text": [
            "Hola mundo\n"
          ]
        }
      ]
    },
    {
      "cell_type": "code",
      "source": [
        "entero = 7\n",
        "print(entero)"
      ],
      "metadata": {
        "colab": {
          "base_uri": "https://localhost:8080/"
        },
        "id": "ghJLHqEd__E3",
        "outputId": "4a10e5fa-0e54-4e19-d0be-36dfb8c0b991"
      },
      "execution_count": 27,
      "outputs": [
        {
          "output_type": "stream",
          "name": "stdout",
          "text": [
            "7\n"
          ]
        }
      ]
    },
    {
      "cell_type": "code",
      "source": [
        "decimal = 3.14\n",
        "print(decimal)"
      ],
      "metadata": {
        "colab": {
          "base_uri": "https://localhost:8080/"
        },
        "id": "sykuyU31AETO",
        "outputId": "25887a08-022a-48be-edaa-c29dd87cb371"
      },
      "execution_count": 29,
      "outputs": [
        {
          "output_type": "stream",
          "name": "stdout",
          "text": [
            "3.14\n"
          ]
        }
      ]
    },
    {
      "cell_type": "code",
      "source": [
        "activo = True\n",
        "print(activo)"
      ],
      "metadata": {
        "colab": {
          "base_uri": "https://localhost:8080/"
        },
        "id": "1lebPJGEAJcO",
        "outputId": "2fd1a0cd-d0aa-4bce-d0bc-d01830f3cda5"
      },
      "execution_count": 31,
      "outputs": [
        {
          "output_type": "stream",
          "name": "stdout",
          "text": [
            "True\n"
          ]
        }
      ]
    },
    {
      "cell_type": "code",
      "source": [
        "a = 5"
      ],
      "metadata": {
        "id": "eaRpU_apARxp"
      },
      "execution_count": 32,
      "outputs": []
    },
    {
      "cell_type": "code",
      "source": [
        "print(type(a))"
      ],
      "metadata": {
        "colab": {
          "base_uri": "https://localhost:8080/"
        },
        "id": "KzwL7viqATmA",
        "outputId": "3662b0ad-fd25-43f3-f733-9ecf3fb20df8"
      },
      "execution_count": 34,
      "outputs": [
        {
          "output_type": "stream",
          "name": "stdout",
          "text": [
            "<class 'int'>\n"
          ]
        }
      ]
    },
    {
      "cell_type": "code",
      "source": [
        "texto = \"Hola\"\n",
        "print(type(texto))"
      ],
      "metadata": {
        "colab": {
          "base_uri": "https://localhost:8080/"
        },
        "id": "hwmrTOmoAWCV",
        "outputId": "5a0b8912-141f-492e-a441-c171d6baaae7"
      },
      "execution_count": 36,
      "outputs": [
        {
          "output_type": "stream",
          "name": "stdout",
          "text": [
            "<class 'str'>\n"
          ]
        }
      ]
    },
    {
      "cell_type": "code",
      "source": [
        "número = 4\n",
        "decimal = float(número)\n",
        "print(decimal)"
      ],
      "metadata": {
        "colab": {
          "base_uri": "https://localhost:8080/"
        },
        "id": "_cE3KLNJAekZ",
        "outputId": "4dfb28d5-7d45-4921-87f5-f5b195b4989f"
      },
      "execution_count": 38,
      "outputs": [
        {
          "output_type": "stream",
          "name": "stdout",
          "text": [
            "4.0\n"
          ]
        }
      ]
    },
    {
      "cell_type": "code",
      "source": [
        "decimal = 7.5\n",
        "entero = int(decimal)\n",
        "print(entero)"
      ],
      "metadata": {
        "colab": {
          "base_uri": "https://localhost:8080/"
        },
        "id": "xt9JbvJ_AtY_",
        "outputId": "b87e1b12-d227-4627-963b-069ebe24e518"
      },
      "execution_count": 40,
      "outputs": [
        {
          "output_type": "stream",
          "name": "stdout",
          "text": [
            "7\n"
          ]
        }
      ]
    },
    {
      "cell_type": "code",
      "source": [
        "saludo = \"Hola\" + \"mundo\"\n",
        "print(saludo)"
      ],
      "metadata": {
        "colab": {
          "base_uri": "https://localhost:8080/"
        },
        "id": "Dpnm4xj1A7QX",
        "outputId": "51b64734-2c5e-4c5c-ba59-c92fd655da3d"
      },
      "execution_count": 42,
      "outputs": [
        {
          "output_type": "stream",
          "name": "stdout",
          "text": [
            "Holamundo\n"
          ]
        }
      ]
    },
    {
      "cell_type": "code",
      "source": [
        "nombre = \"Ana\"\n",
        "apellido = \"López\"\n",
        "completo = nombre + \" \" + apellido\n",
        "print(completo)"
      ],
      "metadata": {
        "colab": {
          "base_uri": "https://localhost:8080/"
        },
        "id": "bKWi-2AXBEpv",
        "outputId": "3c221705-19a3-43be-9c1a-d2d97f2cd75b"
      },
      "execution_count": 44,
      "outputs": [
        {
          "output_type": "stream",
          "name": "stdout",
          "text": [
            "Ana López\n"
          ]
        }
      ]
    },
    {
      "cell_type": "code",
      "source": [
        "a = 10\n",
        "b = 3\n",
        "resta = a-b\n",
        "print(resta)"
      ],
      "metadata": {
        "colab": {
          "base_uri": "https://localhost:8080/"
        },
        "id": "mUsE2tbVBXAg",
        "outputId": "c196c14c-22f4-4c51-b471-0d4197211482"
      },
      "execution_count": 46,
      "outputs": [
        {
          "output_type": "stream",
          "name": "stdout",
          "text": [
            "7\n"
          ]
        }
      ]
    },
    {
      "cell_type": "code",
      "source": [
        "x = 4\n",
        "y = 5\n",
        "producto = x * y\n",
        "print(producto)"
      ],
      "metadata": {
        "colab": {
          "base_uri": "https://localhost:8080/"
        },
        "id": "y5mv97bsBbV4",
        "outputId": "beab9bca-c638-44fe-f4c2-d7ffb20a1ebe"
      },
      "execution_count": 48,
      "outputs": [
        {
          "output_type": "stream",
          "name": "stdout",
          "text": [
            "20\n"
          ]
        }
      ]
    },
    {
      "cell_type": "code",
      "source": [
        "a = 10\n",
        "b = 2\n",
        "división = a/b\n",
        "print(división)"
      ],
      "metadata": {
        "colab": {
          "base_uri": "https://localhost:8080/"
        },
        "id": "dYmSccjlBju-",
        "outputId": "98624457-89c1-41b6-e1b4-8fb763c6b7f5"
      },
      "execution_count": 50,
      "outputs": [
        {
          "output_type": "stream",
          "name": "stdout",
          "text": [
            "5.0\n"
          ]
        }
      ]
    },
    {
      "cell_type": "code",
      "source": [
        "número = 2\n",
        "potencia = número ** 3\n",
        "print(potencia)"
      ],
      "metadata": {
        "colab": {
          "base_uri": "https://localhost:8080/"
        },
        "id": "FgZ1HhJdBuSX",
        "outputId": "fc261ceb-c9d8-4a41-acc3-0c71cdd4aed8"
      },
      "execution_count": 52,
      "outputs": [
        {
          "output_type": "stream",
          "name": "stdout",
          "text": [
            "8\n"
          ]
        }
      ]
    },
    {
      "cell_type": "code",
      "source": [
        "a = 9\n",
        "b = 4\n",
        "residuo = a%b\n",
        "print(residuo)"
      ],
      "metadata": {
        "colab": {
          "base_uri": "https://localhost:8080/"
        },
        "id": "mnGkRkCwB6xJ",
        "outputId": "047edb03-6295-4fdd-de63-89a5786b4acf"
      },
      "execution_count": 54,
      "outputs": [
        {
          "output_type": "stream",
          "name": "stdout",
          "text": [
            "1\n"
          ]
        }
      ]
    },
    {
      "cell_type": "code",
      "source": [
        "logueado = False\n",
        "print(logueado)"
      ],
      "metadata": {
        "colab": {
          "base_uri": "https://localhost:8080/"
        },
        "id": "CxEYOw-8CK_P",
        "outputId": "6f0a1e6d-e13e-474e-add2-e45492f48db6"
      },
      "execution_count": 56,
      "outputs": [
        {
          "output_type": "stream",
          "name": "stdout",
          "text": [
            "False\n"
          ]
        }
      ]
    },
    {
      "cell_type": "code",
      "source": [
        "color = \"Azul\"\n",
        "print(\"Antes:\", color)\n",
        "color = \"rojo\"\n",
        "print(\"Después:\", color)"
      ],
      "metadata": {
        "colab": {
          "base_uri": "https://localhost:8080/"
        },
        "id": "7Rkhsmv7CQ2e",
        "outputId": "176ee084-150c-4d5b-c69a-8bff7231f9f3"
      },
      "execution_count": 58,
      "outputs": [
        {
          "output_type": "stream",
          "name": "stdout",
          "text": [
            "Antes: Azul\n",
            "Después: rojo\n"
          ]
        }
      ]
    },
    {
      "cell_type": "code",
      "source": [
        "nombre = input(\"Como te llamas? \")\n",
        "print(\"Hola,\", nombre)"
      ],
      "metadata": {
        "colab": {
          "base_uri": "https://localhost:8080/"
        },
        "id": "GZexxc6GChFw",
        "outputId": "c11719aa-b3a0-401a-d098-e96209df2321"
      },
      "execution_count": 60,
      "outputs": [
        {
          "output_type": "stream",
          "name": "stdout",
          "text": [
            "Como te llamas? Angel\n",
            "Hola, Angel\n"
          ]
        }
      ]
    },
    {
      "cell_type": "code",
      "source": [
        "a = int(input(\"Escribe un número: \"))\n",
        "b = int(input(\"Escribe un número: \"))\n",
        "print(\"La suma es:\", a + b)"
      ],
      "metadata": {
        "colab": {
          "base_uri": "https://localhost:8080/"
        },
        "id": "485uXNQ9CuKY",
        "outputId": "7088ae9e-53b7-4f0a-8772-c806c26e53f8"
      },
      "execution_count": 61,
      "outputs": [
        {
          "output_type": "stream",
          "name": "stdout",
          "text": [
            "Escribe un número: 1\n",
            "Escribe un número: 1\n",
            "La suma es: 2\n"
          ]
        }
      ]
    },
    {
      "cell_type": "code",
      "source": [
        "edad = input(\"Cuantos años tienes? \")\n",
        "print(\"Tu edad es:\", edad)"
      ],
      "metadata": {
        "colab": {
          "base_uri": "https://localhost:8080/"
        },
        "id": "QnCv-AWCC_4v",
        "outputId": "8f0573a9-c5d1-497c-b49c-100ce27ac2f9"
      },
      "execution_count": 62,
      "outputs": [
        {
          "output_type": "stream",
          "name": "stdout",
          "text": [
            "Cuantos años tienes? 46\n",
            "Tu edad es: 46\n"
          ]
        }
      ]
    },
    {
      "cell_type": "code",
      "source": [
        "nombre = \"Juan\" #Contiene str"
      ],
      "metadata": {
        "id": "wkZJnv3SDQ7g"
      },
      "execution_count": 63,
      "outputs": []
    },
    {
      "cell_type": "code",
      "source": [
        "edad = 25   #Variable que contiene int\n",
        "pi = 3.1416 #Variable que contiene float"
      ],
      "metadata": {
        "id": "uDV1G2qWDgOU"
      },
      "execution_count": 64,
      "outputs": []
    },
    {
      "cell_type": "code",
      "source": [
        "mayor_de_edad = True #Variable que contiene bool"
      ],
      "metadata": {
        "id": "ou_0dWSDDlUi"
      },
      "execution_count": 65,
      "outputs": []
    },
    {
      "cell_type": "code",
      "source": [
        "nombre = \"Carlos\" #Variable que contiene str\n",
        "print(nombre)     #devuelve contenido de variable"
      ],
      "metadata": {
        "colab": {
          "base_uri": "https://localhost:8080/"
        },
        "id": "_5MB4WcVDp6x",
        "outputId": "e9395c02-e738-4fba-b8b6-b01f71ff6b9f"
      },
      "execution_count": 67,
      "outputs": [
        {
          "output_type": "stream",
          "name": "stdout",
          "text": [
            "Carlos\n"
          ]
        }
      ]
    },
    {
      "cell_type": "code",
      "source": [
        "ciudad = \"Guadalajara\" #Variable que contiene str\n",
        "print(ciudad)          #imprime el contenido de la variable"
      ],
      "metadata": {
        "colab": {
          "base_uri": "https://localhost:8080/"
        },
        "id": "-L8TbnhrDwdh",
        "outputId": "a0072871-c245-4501-8e5a-750bfc7376f9"
      },
      "execution_count": 69,
      "outputs": [
        {
          "output_type": "stream",
          "name": "stdout",
          "text": [
            "Guadalajara\n"
          ]
        }
      ]
    },
    {
      "cell_type": "code",
      "source": [
        "mensaje = \"Ella dijo: 'Hola'\" #Variable que contiene varias str que forman un texto\n",
        "print(mensaje)                #imprime el contenido de la variable"
      ],
      "metadata": {
        "colab": {
          "base_uri": "https://localhost:8080/"
        },
        "id": "jr0JbOVzEK5n",
        "outputId": "da1bba38-9cc7-4f1e-ccf2-573aa4fd8c95"
      },
      "execution_count": 71,
      "outputs": [
        {
          "output_type": "stream",
          "name": "stdout",
          "text": [
            "Ella dijo: 'Hola'\n"
          ]
        }
      ]
    },
    {
      "cell_type": "code",
      "source": [
        "saludo = \"Hola\"               #Variable que contiene un str\n",
        "nombre = \"Ana\"                #Variable que contiene un str\n",
        "print(saludo + \" \" + nombre)  #el signo \"+\" concatena los str tal y como aparecen en las variables"
      ],
      "metadata": {
        "colab": {
          "base_uri": "https://localhost:8080/"
        },
        "id": "7lZkvZ2kEf0f",
        "outputId": "ba010afb-042a-40e9-c9ae-0f7a4dceae95"
      },
      "execution_count": 73,
      "outputs": [
        {
          "output_type": "stream",
          "name": "stdout",
          "text": [
            "Hola Ana\n"
          ]
        }
      ]
    },
    {
      "cell_type": "code",
      "source": [
        "fruta = \"manzana\" #Variable que contiene un str\n",
        "print(len(fruta)) #imprime la función \"len()\" que cuenta los caracteres que integran un str (no aplica para int, float o bool)"
      ],
      "metadata": {
        "colab": {
          "base_uri": "https://localhost:8080/"
        },
        "id": "b-22KP68Eq-Y",
        "outputId": "262a9645-5112-4929-96da-1e2908417106"
      },
      "execution_count": 75,
      "outputs": [
        {
          "output_type": "stream",
          "name": "stdout",
          "text": [
            "7\n"
          ]
        }
      ]
    },
    {
      "cell_type": "code",
      "source": [
        "texto = \"hola\"       #Variable que contiene un str\n",
        "print(texto.upper()) #imprime la función \"upper()\" que complementa el nombre de la variable para convertir su texto en mayúsculas (\"nombre_de_la_variable.upper()\")"
      ],
      "metadata": {
        "colab": {
          "base_uri": "https://localhost:8080/"
        },
        "id": "Ajp6KdeTExiA",
        "outputId": "6c4901db-50ae-425e-e827-d296d25cd84d"
      },
      "execution_count": 79,
      "outputs": [
        {
          "output_type": "stream",
          "name": "stdout",
          "text": [
            "HOLA\n"
          ]
        }
      ]
    },
    {
      "cell_type": "code",
      "source": [
        "texto = \"HOLA\" #Variable que contiene un str en mayúsculas\n",
        "print(texto.lower()) #imprime la función \"lower()\" que complementa el nombre de la variable para convertir el texto en minúsculas (\"nombre_de_la_variable\".lower())"
      ],
      "metadata": {
        "colab": {
          "base_uri": "https://localhost:8080/"
        },
        "id": "U3nLDVfyFFsg",
        "outputId": "dcd40693-af81-402d-e412-84df94358ab9"
      },
      "execution_count": 81,
      "outputs": [
        {
          "output_type": "stream",
          "name": "stdout",
          "text": [
            "hola\n"
          ]
        }
      ]
    },
    {
      "cell_type": "code",
      "source": [
        "frase = \"Me gusta el café\"\n",
        "nueva = frase.replace(\"café\", \"té\") #función \"replace(palabra buscada, palabra que va a sustituir)\" complementa el nombre de la variable (\"nom_var\".replace(str_orig,str_sustit))\n",
        "print(nueva) #Devuelve la frase con la palabra sustituida"
      ],
      "metadata": {
        "colab": {
          "base_uri": "https://localhost:8080/"
        },
        "id": "5_toiilbFNpH",
        "outputId": "2afe4ee2-931e-447c-fee5-275af3f573f1"
      },
      "execution_count": 83,
      "outputs": [
        {
          "output_type": "stream",
          "name": "stdout",
          "text": [
            "Me gusta el té\n"
          ]
        }
      ]
    },
    {
      "cell_type": "code",
      "source": [
        "texto = \"   conocido  \"\n",
        "print(texto.strip()) #función \".strip()\" complementa el nombre de la variable para quitar espacios al principio y final de la str que contiene"
      ],
      "metadata": {
        "colab": {
          "base_uri": "https://localhost:8080/"
        },
        "id": "aVq2ppKFFdBx",
        "outputId": "9a5cb097-f2f8-414a-bee7-8a58f8771a5a"
      },
      "execution_count": 89,
      "outputs": [
        {
          "output_type": "stream",
          "name": "stdout",
          "text": [
            "conocido\n"
          ]
        }
      ]
    },
    {
      "cell_type": "code",
      "source": [
        "frase = \"La ciencia de datos es útil\"\n",
        "print(\"datos\" in frase) #función \"in\": identifica si un texto específico está dentro de un conjunto de palabras"
      ],
      "metadata": {
        "colab": {
          "base_uri": "https://localhost:8080/"
        },
        "id": "Pw3MoGxXFnTf",
        "outputId": "11736e22-958a-48d1-ca06-0695cad44e7d"
      },
      "execution_count": 93,
      "outputs": [
        {
          "output_type": "stream",
          "name": "stdout",
          "text": [
            "True\n"
          ]
        }
      ]
    },
    {
      "cell_type": "code",
      "source": [
        "a = 5\n",
        "b = 6\n",
        "print(a + b) #Símbolo \"+\": suma valores numéricos"
      ],
      "metadata": {
        "colab": {
          "base_uri": "https://localhost:8080/"
        },
        "id": "EEUhOJG3GkG8",
        "outputId": "8e25fa49-351b-486e-f963-793ec99bcc1c"
      },
      "execution_count": 137,
      "outputs": [
        {
          "output_type": "stream",
          "name": "stdout",
          "text": [
            "11\n"
          ]
        }
      ]
    },
    {
      "cell_type": "code",
      "source": [
        "x = 2\n",
        "y = 4\n",
        "print(x*y) #Símbolo \"*\": multiplica valores numéricos, si un valor es float devolverá float aunque los decimales sean \"0\""
      ],
      "metadata": {
        "colab": {
          "base_uri": "https://localhost:8080/"
        },
        "id": "EcQ9SBcyGr8J",
        "outputId": "d5cb5186-0917-467b-ca55-c9ca0e0cb4bd"
      },
      "execution_count": 138,
      "outputs": [
        {
          "output_type": "stream",
          "name": "stdout",
          "text": [
            "8\n"
          ]
        }
      ]
    },
    {
      "cell_type": "code",
      "source": [
        "resultado = 10 - 4 #símbolo \"-\" resta valores numéricos\n",
        "print(resultado) #si un valor es float devolverá float aunque los decimales sean \"0\""
      ],
      "metadata": {
        "colab": {
          "base_uri": "https://localhost:8080/"
        },
        "id": "7D-eqV61VKkU",
        "outputId": "21455a3b-1ce1-4598-d6ce-5f24a998f8e0"
      },
      "execution_count": 139,
      "outputs": [
        {
          "output_type": "stream",
          "name": "stdout",
          "text": [
            "6\n"
          ]
        }
      ]
    },
    {
      "cell_type": "code",
      "source": [
        "base = 3.0             #variable que contiene un int\n",
        "cuadrado = base ** 2 #símbolo \"**\" eleva a potencia valores numéricos (\"número base\" ** \"numero potencia\")\n",
        "print(cuadrado)      #print devuelve el resultado, si la base es float, devolverá float aunque los decimales sean \"0\""
      ],
      "metadata": {
        "colab": {
          "base_uri": "https://localhost:8080/"
        },
        "id": "sU8q8l3BV2E5",
        "outputId": "372f8b12-4912-459c-bfe1-bcf022929d83"
      },
      "execution_count": 142,
      "outputs": [
        {
          "output_type": "stream",
          "name": "stdout",
          "text": [
            "9.0\n"
          ]
        }
      ]
    },
    {
      "cell_type": "code",
      "source": [
        "a = 4      #Variable que contiene un int\n",
        "b = 2      #Variable que contiene un int\n",
        "print(a/b) #División de int entre int devuelve float aunque los decimales sean 0"
      ],
      "metadata": {
        "colab": {
          "base_uri": "https://localhost:8080/"
        },
        "id": "anV6huPuWW6y",
        "outputId": "df8ff0cc-b9d7-4cb0-f00c-2691e034c9fa"
      },
      "execution_count": 99,
      "outputs": [
        {
          "output_type": "stream",
          "name": "stdout",
          "text": [
            "2.0\n"
          ]
        }
      ]
    },
    {
      "cell_type": "code",
      "source": [
        "print(7//2) #división exacta entre dos int devuelve int"
      ],
      "metadata": {
        "colab": {
          "base_uri": "https://localhost:8080/"
        },
        "id": "9wT0EnGLWcoK",
        "outputId": "bce5b98a-936c-4564-c972-0b04e49b7a09"
      },
      "execution_count": 100,
      "outputs": [
        {
          "output_type": "stream",
          "name": "stdout",
          "text": [
            "3\n"
          ]
        }
      ]
    },
    {
      "cell_type": "code",
      "source": [
        "print(10%3) #devuelve el residuo de la divisíón"
      ],
      "metadata": {
        "colab": {
          "base_uri": "https://localhost:8080/"
        },
        "id": "gNJnC4fjXYmO",
        "outputId": "6c78ce80-5ab7-4237-8486-511fa018a6c1"
      },
      "execution_count": 101,
      "outputs": [
        {
          "output_type": "stream",
          "name": "stdout",
          "text": [
            "1\n"
          ]
        }
      ]
    },
    {
      "cell_type": "code",
      "source": [
        "texto = \"8\"         #variable que contiene un número entero en formato str\n",
        "número = int(texto) #variable que contiene la función \"int\", que convierte un número entero en formato str a formato int (solo funciona con números no float)\n",
        "print(número)"
      ],
      "metadata": {
        "colab": {
          "base_uri": "https://localhost:8080/"
        },
        "id": "9D0i_H18Xb29",
        "outputId": "d7f70a24-516e-4bd9-9b4c-744daaf75bb5"
      },
      "execution_count": 104,
      "outputs": [
        {
          "output_type": "stream",
          "name": "stdout",
          "text": [
            "8\n"
          ]
        }
      ]
    },
    {
      "cell_type": "code",
      "source": [
        "número = 15.0         #variable que contiene un número int\n",
        "texto = str(número)   #variable que contiene la función str que convierte un número en str\n",
        "print(type(texto))"
      ],
      "metadata": {
        "colab": {
          "base_uri": "https://localhost:8080/"
        },
        "id": "ADjlxz0AXo_j",
        "outputId": "a044fdba-c613-4792-9f77-cf7d0d770527"
      },
      "execution_count": 107,
      "outputs": [
        {
          "output_type": "stream",
          "name": "stdout",
          "text": [
            "<class 'str'>\n"
          ]
        }
      ]
    },
    {
      "cell_type": "code",
      "source": [
        "pi = 3.1416        #Variable que contiene un float\n",
        "print(round(pi,2)) #contiene la función \"round(Var,Cant. dec. reduc)\", devuelve el float menos los dígitos decimales que reduce"
      ],
      "metadata": {
        "colab": {
          "base_uri": "https://localhost:8080/"
        },
        "id": "GAwaj3JnYqiZ",
        "outputId": "96233ffc-0814-4009-9b97-43fff439cc49"
      },
      "execution_count": 113,
      "outputs": [
        {
          "output_type": "stream",
          "name": "stdout",
          "text": [
            "3.14\n"
          ]
        }
      ]
    },
    {
      "cell_type": "code",
      "source": [
        "activo = True\n",
        "print(activo)"
      ],
      "metadata": {
        "colab": {
          "base_uri": "https://localhost:8080/"
        },
        "id": "_ShBd5RNZKX2",
        "outputId": "51c07b65-8c6f-46ef-e47a-5926b550deee"
      },
      "execution_count": 115,
      "outputs": [
        {
          "output_type": "stream",
          "name": "stdout",
          "text": [
            "True\n"
          ]
        }
      ]
    },
    {
      "cell_type": "code",
      "source": [
        "apagado = False\n",
        "print(apagado)"
      ],
      "metadata": {
        "colab": {
          "base_uri": "https://localhost:8080/"
        },
        "id": "zlPaDW4_ZRas",
        "outputId": "2d960f00-aa8f-463d-df04-666add9b46c6"
      },
      "execution_count": 117,
      "outputs": [
        {
          "output_type": "stream",
          "name": "stdout",
          "text": [
            "False\n"
          ]
        }
      ]
    },
    {
      "cell_type": "code",
      "source": [
        "print(10 > 5) #Símbolo \">\" compara si el primero es mayor que el segundo, devuelve bool"
      ],
      "metadata": {
        "colab": {
          "base_uri": "https://localhost:8080/"
        },
        "id": "bieGFA0NZWe8",
        "outputId": "cf991a4c-c6da-410c-bc40-5fc9a9951dc3"
      },
      "execution_count": 119,
      "outputs": [
        {
          "output_type": "stream",
          "name": "stdout",
          "text": [
            "True\n"
          ]
        }
      ]
    },
    {
      "cell_type": "code",
      "source": [
        "print(3 == 3) #Símbolo \"<\" compara si el primero es menor que el segundo, devuelve bool"
      ],
      "metadata": {
        "colab": {
          "base_uri": "https://localhost:8080/"
        },
        "id": "pGqm-LMfZgwe",
        "outputId": "cfc2aca6-5a5c-4a51-cdd3-61b52ac5900a"
      },
      "execution_count": 121,
      "outputs": [
        {
          "output_type": "stream",
          "name": "stdout",
          "text": [
            "True\n"
          ]
        }
      ]
    },
    {
      "cell_type": "code",
      "source": [
        "print(4 != 4) #Símbolo \"!=\" compara si los valores son diferentes, devuelve bool"
      ],
      "metadata": {
        "colab": {
          "base_uri": "https://localhost:8080/"
        },
        "id": "7bZ7FpkuZk-X",
        "outputId": "288057fe-27c7-4721-95fd-983613a1e51b"
      },
      "execution_count": 123,
      "outputs": [
        {
          "output_type": "stream",
          "name": "stdout",
          "text": [
            "False\n"
          ]
        }
      ]
    },
    {
      "cell_type": "code",
      "source": [
        "print(5 > 3 and 2 < 4) #función \"and\" analiza si se cumplen las dos condciones y devuelve bool"
      ],
      "metadata": {
        "colab": {
          "base_uri": "https://localhost:8080/"
        },
        "id": "1NNkzlYfZshX",
        "outputId": "17b0f237-8e62-4e18-d2ac-a5a7a1a1626b"
      },
      "execution_count": 125,
      "outputs": [
        {
          "output_type": "stream",
          "name": "stdout",
          "text": [
            "True\n"
          ]
        }
      ]
    },
    {
      "cell_type": "code",
      "source": [
        "print(5 > 10 or 3 < 4) #función \"or\" analiza si se cumple una de las dos condiciones y devuelve bool"
      ],
      "metadata": {
        "colab": {
          "base_uri": "https://localhost:8080/"
        },
        "id": "9HpdLaBeZ9su",
        "outputId": "de6e713a-f4cc-4902-d573-8f079a55d5e8"
      },
      "execution_count": 127,
      "outputs": [
        {
          "output_type": "stream",
          "name": "stdout",
          "text": [
            "True\n"
          ]
        }
      ]
    },
    {
      "cell_type": "code",
      "source": [
        "print(not True) #\"not true\" devuelve bool"
      ],
      "metadata": {
        "colab": {
          "base_uri": "https://localhost:8080/"
        },
        "id": "nHJLtoKyaJ43",
        "outputId": "68093e9e-f5e8-4303-9c73-34585aa411cd"
      },
      "execution_count": 128,
      "outputs": [
        {
          "output_type": "stream",
          "name": "stdout",
          "text": [
            "False\n"
          ]
        }
      ]
    },
    {
      "cell_type": "code",
      "source": [
        "nombre = \"Ana\"         #variable que contiene un str\n",
        "print(nombre == \"ana\") #analiza si hay coincidencia exacta (==) y devuelve float"
      ],
      "metadata": {
        "colab": {
          "base_uri": "https://localhost:8080/"
        },
        "id": "j-5z1aqraX6g",
        "outputId": "5731b6d4-7dfe-4455-cd78-8f054e44c4a6"
      },
      "execution_count": 129,
      "outputs": [
        {
          "output_type": "stream",
          "name": "stdout",
          "text": [
            "False\n"
          ]
        }
      ]
    },
    {
      "cell_type": "code",
      "source": [
        "print(bool(0)) #convierte a bool el valor (en caso de ser \"0\", devuelve \"False\", para el resto devuelve \"True\", aunque sean float o int)\n",
        "print(bool(5))\n",
        "print(bool(1))\n",
        "print(bool(2))\n",
        "print(bool(3))\n",
        "print(bool(4))"
      ],
      "metadata": {
        "colab": {
          "base_uri": "https://localhost:8080/"
        },
        "id": "EXFbLhL5aqSF",
        "outputId": "bb5dc045-08f0-4422-cdf6-31011e283e1e"
      },
      "execution_count": 144,
      "outputs": [
        {
          "output_type": "stream",
          "name": "stdout",
          "text": [
            "False\n",
            "True\n",
            "True\n",
            "True\n",
            "True\n",
            "True\n"
          ]
        }
      ]
    },
    {
      "cell_type": "code",
      "source": [
        "a = 5.0      #Variable con valor numérico\n",
        "b = 3        #Varoabñe con valor numérico\n",
        "print(a + b) #Símbolo \"+\": devuelve la suma de dos o mas valores numéricos, devolverá float si al menos uno es float, sin importar si el valor del decimal es \"0\""
      ],
      "metadata": {
        "colab": {
          "base_uri": "https://localhost:8080/"
        },
        "id": "-rualowbh5Bt",
        "outputId": "f2114ba3-f910-4a6a-8f7a-976a33e1c76d"
      },
      "execution_count": 148,
      "outputs": [
        {
          "output_type": "stream",
          "name": "stdout",
          "text": [
            "8.0\n"
          ]
        }
      ]
    },
    {
      "cell_type": "code",
      "source": [
        "a = 10.0     #variable con valor numérico\n",
        "b = 4        #variable con valor numérico\n",
        "print(a - b) #Símbolo \"-\": devuelve la resta de dos o mas valores numéricos, devolverá float si almenos uno es float, sin importar si el valor del decimal es \"0\""
      ],
      "metadata": {
        "colab": {
          "base_uri": "https://localhost:8080/"
        },
        "id": "MUulE-FsikIT",
        "outputId": "5d3e0195-895e-4e26-85ae-78855e80c5da"
      },
      "execution_count": 151,
      "outputs": [
        {
          "output_type": "stream",
          "name": "stdout",
          "text": [
            "6.0\n"
          ]
        }
      ]
    },
    {
      "cell_type": "code",
      "source": [
        "x = 6.0      #Variable con valor númerico\n",
        "y = 2        #Variable con valor númerico\n",
        "print(x * y) #Símbolo \"*\": ejecuta la multiplicación de dos o más valores numéricos, devolverá float si al menos uno es float, sin importar si el valor de la terminal"
      ],
      "metadata": {
        "colab": {
          "base_uri": "https://localhost:8080/"
        },
        "id": "aNlSXJpVjkIV",
        "outputId": "2daea574-c101-4d6f-fed0-b8bd9266fa42"
      },
      "execution_count": 153,
      "outputs": [
        {
          "output_type": "stream",
          "name": "stdout",
          "text": [
            "12.0\n"
          ]
        }
      ]
    },
    {
      "cell_type": "code",
      "source": [
        "a = 8        #Variable con valor numérico\n",
        "b = 2.0      #Variable con valor numérico\n",
        "print(a / b) #Símbolo \"/\": ejecuta la división entre dos valores númericos, devolverá float si al menos uno es float, sin importar si el valor de los decimales es \"0\""
      ],
      "metadata": {
        "colab": {
          "base_uri": "https://localhost:8080/"
        },
        "id": "ZGnjTbzLkaiB",
        "outputId": "56cf42e5-2cde-4b3d-e5ff-e505255e1116"
      },
      "execution_count": 156,
      "outputs": [
        {
          "output_type": "stream",
          "name": "stdout",
          "text": [
            "4.0\n"
          ]
        }
      ]
    },
    {
      "cell_type": "code",
      "source": [
        "print(9.0 // 2) #Símbolo \"//\": devuelve el resultado entero sin residuo o decimales de la división de dos valores númericos, devolverá float si al menos uno es float, sin importar si el valor de los decimales es \"0\""
      ],
      "metadata": {
        "colab": {
          "base_uri": "https://localhost:8080/"
        },
        "id": "snfKEbPzlbEU",
        "outputId": "71d7a5ef-92c5-4865-fe58-7610b45e13ac"
      },
      "execution_count": 160,
      "outputs": [
        {
          "output_type": "stream",
          "name": "stdout",
          "text": [
            "4.0\n"
          ]
        }
      ]
    },
    {
      "cell_type": "code",
      "source": [
        "print(9.0 % 2) #Símbolo \"%\": devuelve el residuo de la división entre dos números, devolverá float si al menos uno es float, sin importar si el valor de los decimales es \"0\""
      ],
      "metadata": {
        "colab": {
          "base_uri": "https://localhost:8080/"
        },
        "id": "sUfFUkCxnq79",
        "outputId": "2a52332e-c528-48ce-c741-e0128e181298"
      },
      "execution_count": 164,
      "outputs": [
        {
          "output_type": "stream",
          "name": "stdout",
          "text": [
            "1.0\n"
          ]
        }
      ]
    },
    {
      "cell_type": "code",
      "source": [
        "print(5 ** 2.0) #Símbolo \"**\": devuelve el resultado de la potenciación de un valor, devolverá float si al menos uno es float, sin importar si el valor de los decimales es \"0\""
      ],
      "metadata": {
        "colab": {
          "base_uri": "https://localhost:8080/"
        },
        "id": "Tn3u5AVMoPdh",
        "outputId": "2d9a0f51-ec65-4f2a-c59e-7416179fb204"
      },
      "execution_count": 166,
      "outputs": [
        {
          "output_type": "stream",
          "name": "stdout",
          "text": [
            "25.0\n"
          ]
        }
      ]
    },
    {
      "cell_type": "code",
      "source": [
        "a,b,c = 9, 9, 9      #Variable que autoasigna valores numéricos a tres variables separadas por una coma tanto en el nombre de la variable como en el contenido numérico\n",
        "promedio = (a+b+c)/3 #Calcula el promedio de \"n\" valores dividiendo la suma de los mismos entre la cantidad de valores (n+n+n/3n)\n",
        "print(promedio)"
      ],
      "metadata": {
        "colab": {
          "base_uri": "https://localhost:8080/"
        },
        "id": "GxMRLRsEoqyO",
        "outputId": "ac9d2707-8678-4dc2-97e1-b77a0d4fad98"
      },
      "execution_count": 169,
      "outputs": [
        {
          "output_type": "stream",
          "name": "stdout",
          "text": [
            "9.0\n"
          ]
        }
      ]
    },
    {
      "cell_type": "code",
      "source": [
        "x = int(input(\"Escribe un número: \"))   #variable con función \"input()\" que pide datos al usuario\n",
        "y = int(input(\"Escribe otro número: \")) #variable con función \"input()\" que pide datos al usuario\n",
        "print(\"suma:\", x + y) #Concatena texto con el contenido de las variables"
      ],
      "metadata": {
        "colab": {
          "base_uri": "https://localhost:8080/"
        },
        "id": "r1svhGUkoxCW",
        "outputId": "ce81ddce-0902-4195-e278-2f1db2b80e48"
      },
      "execution_count": 171,
      "outputs": [
        {
          "output_type": "stream",
          "name": "stdout",
          "text": [
            "Escribe un número: 1\n",
            "Escribe otro número: 1\n",
            "suma: 2\n"
          ]
        }
      ]
    },
    {
      "cell_type": "code",
      "source": [
        "print(10 > 5.0) #Símbolo \">\": compara si el primer valor es mayor que el segundo, indistintamente si los valores son int o float y devuelve bool"
      ],
      "metadata": {
        "colab": {
          "base_uri": "https://localhost:8080/"
        },
        "id": "ICZ35m8Kq90F",
        "outputId": "09f7f3b8-cc94-4518-9e75-b05fe984779b"
      },
      "execution_count": 173,
      "outputs": [
        {
          "output_type": "stream",
          "name": "stdout",
          "text": [
            "True\n"
          ]
        }
      ]
    },
    {
      "cell_type": "code",
      "source": [
        "print(3 < 2) #Símbolo \"<\": compara si el primer valor es menor que el segundo, indistintamente si los valores son int o float y devuelve bool"
      ],
      "metadata": {
        "id": "BrLHDwEisH5a"
      },
      "execution_count": null,
      "outputs": []
    },
    {
      "cell_type": "code",
      "source": [
        "print(4.0 == 4)         #Símbolo \"==\": compara si dos elementos son iguales, si son valores numéricos no importa si son int o float\n",
        "print(\"casa\" == \"casa\") #si son valores \"str\" deben estar encerrados entre comillas y tener coincidencia exacta, incluyendo mayusculas - minúsculas\n",
        "print(\"Casa\" == \"casa\") #en todos los casos devolverá bool"
      ],
      "metadata": {
        "colab": {
          "base_uri": "https://localhost:8080/"
        },
        "id": "-E4Hzrdbscj4",
        "outputId": "b8ed1b62-7a0e-4c1c-b260-0f9aa149ce2a"
      },
      "execution_count": 180,
      "outputs": [
        {
          "output_type": "stream",
          "name": "stdout",
          "text": [
            "True\n",
            "True\n",
            "False\n"
          ]
        }
      ]
    },
    {
      "cell_type": "code",
      "source": [
        "print(4.0 != 4)         #Símbolo \"!=\": compara si dos elementos son diferentes, si son valores numéricos no importa si son int o float\n",
        "print(\"casa\" != \"casa\") #si son valores \"str\" deben estar encerrados entre comillas, reconoce la diferencia entre mayusculas - minúsculas\n",
        "print(\"Casa\" != \"casa\") #en todos los casos el resultado será bool"
      ],
      "metadata": {
        "colab": {
          "base_uri": "https://localhost:8080/"
        },
        "id": "8myvroj7tydH",
        "outputId": "573126bf-8385-485a-ffdb-5737298da2d6"
      },
      "execution_count": 182,
      "outputs": [
        {
          "output_type": "stream",
          "name": "stdout",
          "text": [
            "False\n",
            "False\n",
            "True\n"
          ]
        }
      ]
    },
    {
      "cell_type": "code",
      "source": [
        "print(4.0 >= 4) #Símbolo \">=\": compara si el primer valor numérico es mayor o igual al segundo, no importa si son int o float\n",
        "print(5.0 >= 4) #devolverá bool\n",
        "print(4.0 >= 5)"
      ],
      "metadata": {
        "colab": {
          "base_uri": "https://localhost:8080/"
        },
        "id": "96UveL9HuRQ5",
        "outputId": "9d14345e-4c73-4a89-dc6f-5a049f745a03"
      },
      "execution_count": 186,
      "outputs": [
        {
          "output_type": "stream",
          "name": "stdout",
          "text": [
            "True\n",
            "True\n",
            "False\n"
          ]
        }
      ]
    },
    {
      "cell_type": "code",
      "source": [
        "print(4.0 <= 4) #Símbolo \"<=\": compara si el primer valor numérico es menor o igual al segundo, no importa si son int o float\n",
        "print(5.0 <= 4) #devolverá bool\n",
        "print(4.0 <= 5)"
      ],
      "metadata": {
        "colab": {
          "base_uri": "https://localhost:8080/"
        },
        "id": "XlL2ynAOuhGW",
        "outputId": "44130435-a762-4454-fc5b-6ad24e59f985"
      },
      "execution_count": 188,
      "outputs": [
        {
          "output_type": "stream",
          "name": "stdout",
          "text": [
            "True\n",
            "False\n",
            "True\n"
          ]
        }
      ]
    },
    {
      "cell_type": "code",
      "source": [
        "nombre1 = \"Angel\" #Símbolo \"==\": compara si dos elementos son idénticos, si son valores str deberán estar entre comillas\n",
        "nombre2 = \"Ángel\" #y tener coincidencia exacta, reconoce diferencia entre minúsculas, mayúsculas y el uso de acentos o\n",
        "print(nombre1 == nombre2) #apostrofes; el resultado será bool\n",
        "print(nombre1 == \"Angel\")"
      ],
      "metadata": {
        "colab": {
          "base_uri": "https://localhost:8080/"
        },
        "id": "DivOli7ovqGA",
        "outputId": "c52f1c14-15f4-4a12-9abb-b997d324dc14"
      },
      "execution_count": 190,
      "outputs": [
        {
          "output_type": "stream",
          "name": "stdout",
          "text": [
            "False\n",
            "True\n"
          ]
        }
      ]
    },
    {
      "cell_type": "code",
      "source": [
        "Val1 = int(input(\"Valor 1 es:\"))\n",
        "Val2 = int(input(\"valor 2 es:\"))\n",
        "print(\"Valor 1 es mayor que Valor 2:\", Val1 > Val2)\n",
        "\n",
        "Val3 = int(input())\n",
        "Val4 = int(input())\n",
        "print(Val3 > Val4)"
      ],
      "metadata": {
        "colab": {
          "base_uri": "https://localhost:8080/"
        },
        "id": "dGx4OstNwt23",
        "outputId": "c05cec41-b9ed-4648-ef8b-ccf359bc20d6"
      },
      "execution_count": 193,
      "outputs": [
        {
          "output_type": "stream",
          "name": "stdout",
          "text": [
            "Valor 1 es:2\n",
            "valor 2 es:1\n",
            "Valor 1 es mayor que Valor 2: True\n",
            "2\n",
            "1\n",
            "True\n"
          ]
        }
      ]
    },
    {
      "cell_type": "code",
      "source": [
        "edad = 18\n",
        "print(\"Mayor de edad?\", edad >= 18)"
      ],
      "metadata": {
        "colab": {
          "base_uri": "https://localhost:8080/"
        },
        "id": "a10XEK2Lx0ry",
        "outputId": "183c541b-8cde-468e-b791-ab6ad8911897"
      },
      "execution_count": 194,
      "outputs": [
        {
          "output_type": "stream",
          "name": "stdout",
          "text": [
            "Mayor de edad? True\n"
          ]
        }
      ]
    }
  ]
}